{
 "cells": [
  {
   "cell_type": "code",
   "execution_count": 2,
   "metadata": {
    "collapsed": false
   },
   "outputs": [],
   "source": [
    "import datetime\n",
    "import threading\n",
    "import tushare as ts\n",
    "import sys\n",
    "sys.path.append('../')\n",
    "from winguiauto import *\n",
    "import pickle\n",
    "from ProxyTrading import *"
   ]
  },
  {
   "cell_type": "code",
   "execution_count": 39,
   "metadata": {
    "collapsed": false
   },
   "outputs": [
    {
     "data": {
      "text/plain": [
       "398882L"
      ]
     },
     "execution_count": 39,
     "metadata": {},
     "output_type": "execute_result"
    }
   ],
   "source": [
    "ths_title = u'网上股票交易系统5.0'\n",
    "zx_title = u'中信证券(浙江)智胜全能版'\n",
    "hwnd = findSpecifiedTopWindow(wantedText=ths_title)\n",
    "hwnd"
   ]
  },
  {
   "cell_type": "code",
   "execution_count": 40,
   "metadata": {
    "collapsed": false
   },
   "outputs": [
    {
     "data": {
      "text/plain": [
       "[462926L]"
      ]
     },
     "execution_count": 40,
     "metadata": {},
     "output_type": "execute_result"
    }
   ],
   "source": [
    "hwndChildLevel1 = dumpSpecifiedWindow(hwnd, wantedClass='AfxMDIFrame42s')\n",
    "hwndChildLevel1"
   ]
  },
  {
   "cell_type": "code",
   "execution_count": 41,
   "metadata": {
    "collapsed": false
   },
   "outputs": [
    {
     "data": {
      "text/plain": [
       "[462916L, 462914L, 461724L, 329474L, 658232L, 460148L]"
      ]
     },
     "execution_count": 41,
     "metadata": {},
     "output_type": "execute_result"
    }
   ],
   "source": [
    "hwndChildLevel2 = dumpSpecifiedWindow(hwndChildLevel1[0])\n",
    "hwndChildLevel2"
   ]
  },
  {
   "cell_type": "code",
   "execution_count": 42,
   "metadata": {
    "collapsed": false
   },
   "outputs": [
    {
     "data": {
      "text/plain": [
       "[460558L,\n",
       " 395084L,\n",
       " 460848L,\n",
       " 460550L,\n",
       " 460538L,\n",
       " 527292L,\n",
       " 329538L,\n",
       " 394812L,\n",
       " 329526L,\n",
       " 788188L,\n",
       " 329554L,\n",
       " 657104L,\n",
       " 329558L,\n",
       " 657066L,\n",
       " 329568L,\n",
       " 329572L,\n",
       " 329560L,\n",
       " 329564L,\n",
       " 788192L,\n",
       " 329556L,\n",
       " 788190L,\n",
       " 329550L,\n",
       " 722574L,\n",
       " 1116082L,\n",
       " 329772L,\n",
       " 722940L,\n",
       " 460806L,\n",
       " 329524L,\n",
       " 329586L,\n",
       " 460684L,\n",
       " 658286L,\n",
       " 396816L,\n",
       " 329536L,\n",
       " 526328L,\n",
       " 854098L,\n",
       " 723008L,\n",
       " 395622L,\n",
       " 723272L,\n",
       " 723024L,\n",
       " 528182L,\n",
       " 527188L,\n",
       " 329528L,\n",
       " 656930L,\n",
       " 329530L,\n",
       " 460790L,\n",
       " 329666L,\n",
       " 329562L,\n",
       " 329608L,\n",
       " 329706L]"
      ]
     },
     "execution_count": 42,
     "metadata": {},
     "output_type": "execute_result"
    }
   ],
   "source": [
    "hwnd_buy = dumpSpecifiedWindow(hwndChildLevel2[4])\n",
    "hwnd_buy"
   ]
  },
  {
   "cell_type": "code",
   "execution_count": 43,
   "metadata": {
    "collapsed": false
   },
   "outputs": [
    {
     "data": {
      "text/plain": [
       "[460310L,\n",
       " 460308L,\n",
       " 460114L,\n",
       " 525648L,\n",
       " 525646L,\n",
       " 722246L,\n",
       " 525614L,\n",
       " 525610L,\n",
       " 329220L,\n",
       " 329222L,\n",
       " 591136L,\n",
       " 1836318L,\n",
       " 853272L,\n",
       " 918806L,\n",
       " 591124L,\n",
       " 592502L,\n",
       " 461368L,\n",
       " 461122L,\n",
       " 461372L,\n",
       " 396812L,\n",
       " 461364L,\n",
       " 461346L,\n",
       " 592072L,\n",
       " 526868L,\n",
       " 591942L,\n",
       " 592044L,\n",
       " 396814L,\n",
       " 592660L,\n",
       " 593000L,\n",
       " 526850L,\n",
       " 526852L,\n",
       " 526838L,\n",
       " 592134L,\n",
       " 592098L,\n",
       " 592114L,\n",
       " 592116L,\n",
       " 591940L,\n",
       " 592076L,\n",
       " 461354L,\n",
       " 591950L,\n",
       " 461356L,\n",
       " 592124L,\n",
       " 592108L,\n",
       " 592096L,\n",
       " 591974L,\n",
       " 591588L,\n",
       " 461338L,\n",
       " 1773306L,\n",
       " 657618L,\n",
       " 329296L,\n",
       " 329298L]"
      ]
     },
     "execution_count": 43,
     "metadata": {},
     "output_type": "execute_result"
    }
   ],
   "source": [
    "hwnd_sell = dumpSpecifiedWindow(hwndChildLevel2[5])\n",
    "hwnd_sell"
   ]
  },
  {
   "cell_type": "code",
   "execution_count": 74,
   "metadata": {
    "collapsed": false
   },
   "outputs": [],
   "source": [
    "def order(hwnd_controls, code, price, number, pos_code, pos_price, pos_number, pos_comfirm):\n",
    "    if closePopupWindow(hwnd, wantedClass='Button'):\n",
    "        print '^O^'\n",
    "        time.sleep(0.3)\n",
    "    time.sleep(0.1)\n",
    "    setEditText(hwnd_controls[pos_code], code)\n",
    "    time.sleep(0.1)\n",
    "    setEditText(hwnd_controls[pos_price], price)\n",
    "    time.sleep(0.1)\n",
    "    setEditText(hwnd_controls[pos_number], number)\n",
    "    time.sleep(0.2)\n",
    "    click(hwnd_controls[pos_comfirm])\n",
    "    time.sleep(0.2)"
   ]
  },
  {
   "cell_type": "code",
   "execution_count": 84,
   "metadata": {
    "collapsed": true
   },
   "outputs": [],
   "source": [
    "order(hwnd_buy, '601988', '3.0', '100', 0, 2, 4, 9)"
   ]
  },
  {
   "cell_type": "code",
   "execution_count": 49,
   "metadata": {
    "collapsed": true
   },
   "outputs": [],
   "source": [
    "order(hwnd_sell, '601988', '3.8', '100', 0, 2, 4, 10)"
   ]
  },
  {
   "cell_type": "code",
   "execution_count": null,
   "metadata": {
    "collapsed": false
   },
   "outputs": [],
   "source": [
    "hwnds = dumpWindow(hwnd)"
   ]
  },
  {
   "cell_type": "code",
   "execution_count": null,
   "metadata": {
    "collapsed": false
   },
   "outputs": [],
   "source": [
    "def print_list(lst, prefix):\n",
    "    for i in range(len(lst)):\n",
    "        if prefix:\n",
    "            newprefix = prefix + ',' + str(i)\n",
    "        else:\n",
    "            newprefix = str(i)\n",
    "        if isinstance(lst[i], list):\n",
    "            print_list(lst[i], newprefix)\n",
    "        else:\n",
    "            print prefix + ': ', str(lst[i]).decode('gbk').encode('utf-8')"
   ]
  },
  {
   "cell_type": "code",
   "execution_count": null,
   "metadata": {
    "collapsed": false
   },
   "outputs": [],
   "source": [
    "print_list(hwnds, '')"
   ]
  },
  {
   "cell_type": "code",
   "execution_count": null,
   "metadata": {
    "collapsed": false
   },
   "outputs": [],
   "source": [
    "hwnds[0][3]"
   ]
  },
  {
   "cell_type": "code",
   "execution_count": 3,
   "metadata": {
    "collapsed": false
   },
   "outputs": [],
   "source": [
    "pressKey(hwnd, win32con.VK_F6)"
   ]
  },
  {
   "cell_type": "code",
   "execution_count": null,
   "metadata": {
    "collapsed": true
   },
   "outputs": [],
   "source": []
  },
  {
   "cell_type": "code",
   "execution_count": 260,
   "metadata": {
    "collapsed": false,
    "scrolled": true
   },
   "outputs": [
    {
     "name": "stdout",
     "output_type": "stream",
     "text": [
      "('hwndChildLevel1: ', [265950L])\n",
      "('hwndChildLevel2: ', [462222L, 462220L, 1115882L, 1051844L, 3149652L, 659542L, 1050516L, 1313258L])\n",
      "('hwndChildLevel3: ', 1, [0L])\n",
      "('hwndChildLevel3: ', 6, [198690L, 3739178L, 593972L, 397728L, 657966L, 1245806L])\n",
      "('hwndChildLevel3: ', 12, [658924L, 1707588L, 1575294L, 2164188L, 2560304L, 1575814L, 658966L, 1510264L, 1640194L, 1771252L, 921826L, 594134L])\n",
      "('hwndChildLevel3: ', 18, [593314L, 396624L, 396636L, 527164L, 396676L, 462226L, 462278L, 396670L, 396668L, 790304L, 462838L, 659690L, 658790L, 724746L, 724232L, 790230L, 724678L, 1445680L])\n",
      "('hwndChildLevel3: ', 31, [592566L, 397216L, 397208L, 657724L, 593336L, 593256L, 594172L, 724514L, 724512L, 594178L, 1705532L, 594176L, 594196L, 593334L, 1576498L, 789286L, 593952L, 397282L, 723216L, 397210L, 592560L, 397276L, 592572L, 657914L, 592148L, 592620L, 592516L, 592548L, 397314L, 397316L, 594152L])\n",
      "('hwndChildLevel3: ', 18, [919388L, 462834L, 2690020L, 4063276L, 591858L, 397272L, 658468L, 658130L, 658168L, 462844L, 462840L, 462842L, 462846L, 658050L, 658068L, 658470L, 397164L, 527370L])\n",
      "('hwndChildLevel3: ', 53, [788690L, 460970L, 2033878L, 789076L, 789622L, 463020L, 331956L, 2297398L, 1379436L, 395328L, 723178L, 593062L, 329638L, 3279466L, 1444774L, 331868L, 528456L, 528458L, 528462L, 462828L, 723238L, 789750L, 986320L, 396560L, 1641622L, 854544L, 1051800L, 855194L, 1117314L, 462044L, 593136L, 527616L, 463000L, 463052L, 1313188L, 657694L, 658126L, 788742L, 723244L, 657688L, 1508326L, 788686L, 855136L, 462830L, 395758L, 528420L, 724184L, 395432L, 331034L, 657698L, 658066L, 1378712L, 658444L])\n",
      "('hwndChildLevel3: ', 73, [919800L, 526286L, 985464L, 526304L, 526306L, 985290L, 1051022L, 592092L, 1051034L, 724180L, 396562L, 397354L, 460866L, 985546L, 460956L, 1772660L, 462078L, 724168L, 135632L, 135630L, 135628L, 135626L, 135624L, 135622L, 135620L, 135618L, 135616L, 135614L, 135612L, 135610L, 135606L, 135604L, 135602L, 135600L, 135598L, 135596L, 135594L, 200634L, 200638L, 200636L, 200640L, 200642L, 330498L, 330500L, 330514L, 330784L, 330510L, 200566L, 200564L, 331432L, 135646L, 985604L, 1117310L, 2819670L, 724090L, 658572L, 724274L, 789684L, 789682L, 986240L, 396564L, 920166L, 331048L, 789662L, 266098L, 331050L, 920096L, 331044L, 331018L, 266096L, 331046L, 658532L, 135644L])\n"
     ]
    },
    {
     "data": {
      "text/plain": [
       "[919800L,\n",
       " 526286L,\n",
       " 985464L,\n",
       " 526304L,\n",
       " 526306L,\n",
       " 985290L,\n",
       " 1051022L,\n",
       " 592092L,\n",
       " 1051034L,\n",
       " 724180L,\n",
       " 396562L,\n",
       " 397354L,\n",
       " 460866L,\n",
       " 985546L,\n",
       " 460956L,\n",
       " 1772660L,\n",
       " 462078L,\n",
       " 724168L,\n",
       " 135632L,\n",
       " 135630L,\n",
       " 135628L,\n",
       " 135626L,\n",
       " 135624L,\n",
       " 135622L,\n",
       " 135620L,\n",
       " 135618L,\n",
       " 135616L,\n",
       " 135614L,\n",
       " 135612L,\n",
       " 135610L,\n",
       " 135606L,\n",
       " 135604L,\n",
       " 135602L,\n",
       " 135600L,\n",
       " 135598L,\n",
       " 135596L,\n",
       " 135594L,\n",
       " 200634L,\n",
       " 200638L,\n",
       " 200636L,\n",
       " 200640L,\n",
       " 200642L,\n",
       " 330498L,\n",
       " 330500L,\n",
       " 330514L,\n",
       " 330784L,\n",
       " 330510L,\n",
       " 200566L,\n",
       " 200564L,\n",
       " 331432L,\n",
       " 135646L,\n",
       " 985604L,\n",
       " 1117310L,\n",
       " 2819670L,\n",
       " 724090L,\n",
       " 658572L,\n",
       " 724274L,\n",
       " 789684L,\n",
       " 789682L,\n",
       " 986240L,\n",
       " 396564L,\n",
       " 920166L,\n",
       " 331048L,\n",
       " 789662L,\n",
       " 266098L,\n",
       " 331050L,\n",
       " 920096L,\n",
       " 331044L,\n",
       " 331018L,\n",
       " 266096L,\n",
       " 331046L,\n",
       " 658532L,\n",
       " 135644L]"
      ]
     },
     "execution_count": 260,
     "metadata": {},
     "output_type": "execute_result"
    }
   ],
   "source": [
    "hwndControls = findWantedControls(hwnd)\n",
    "hwndControls"
   ]
  },
  {
   "cell_type": "code",
   "execution_count": null,
   "metadata": {
    "collapsed": true
   },
   "outputs": [],
   "source": [
    "if closePopupWindow(hwnd, wantedClass='Button'):\n",
    "    time.sleep(5)"
   ]
  },
  {
   "cell_type": "code",
   "execution_count": 5,
   "metadata": {
    "collapsed": false
   },
   "outputs": [],
   "source": [
    "click(hwndControls[5])"
   ]
  },
  {
   "cell_type": "code",
   "execution_count": 262,
   "metadata": {
    "collapsed": false
   },
   "outputs": [],
   "source": [
    "def test_buy():\n",
    "    if closePopupWindow(hwnd, wantedClass='Button'):\n",
    "        print '^O^'\n",
    "    time.sleep(0.1)\n",
    "    setEditText(hwndControls[2], '002024')\n",
    "    time.sleep(0.1)\n",
    "    #click(hwndControls[2])\n",
    "    setEditText(hwndControls[5], '9.8')\n",
    "    time.sleep(0.2)\n",
    "    #click(hwndControls[5])\n",
    "    setEditText(hwndControls[7], '100')\n",
    "    #time.sleep(0.5)\n",
    "    #click(hwndControls[6])\n",
    "    #pressKey(hwnd, 'B')\n",
    "    time.sleep(0.3)\n",
    "    click(hwndControls[8])\n",
    "    time.sleep(0.4)\n",
    "\n",
    "for i in range(100):\n",
    "    #time.sleep(0.3)\n",
    "    test_buy()"
   ]
  },
  {
   "cell_type": "code",
   "execution_count": null,
   "metadata": {
    "collapsed": true
   },
   "outputs": [],
   "source": []
  },
  {
   "cell_type": "code",
   "execution_count": null,
   "metadata": {
    "collapsed": true
   },
   "outputs": [],
   "source": []
  },
  {
   "cell_type": "code",
   "execution_count": null,
   "metadata": {
    "collapsed": true
   },
   "outputs": [],
   "source": []
  },
  {
   "cell_type": "code",
   "execution_count": null,
   "metadata": {
    "collapsed": true
   },
   "outputs": [],
   "source": []
  },
  {
   "cell_type": "code",
   "execution_count": null,
   "metadata": {
    "collapsed": false
   },
   "outputs": [],
   "source": [
    "clickButton(hwndControls[10])\n",
    "hwndControls[5]"
   ]
  },
  {
   "cell_type": "code",
   "execution_count": null,
   "metadata": {
    "collapsed": true
   },
   "outputs": [],
   "source": []
  },
  {
   "cell_type": "code",
   "execution_count": null,
   "metadata": {
    "collapsed": true
   },
   "outputs": [],
   "source": []
  }
 ],
 "metadata": {
  "kernelspec": {
   "display_name": "Python 2",
   "language": "python",
   "name": "python2"
  },
  "language_info": {
   "codemirror_mode": {
    "name": "ipython",
    "version": 2
   },
   "file_extension": ".py",
   "mimetype": "text/x-python",
   "name": "python",
   "nbconvert_exporter": "python",
   "pygments_lexer": "ipython2",
   "version": "2.7.10"
  }
 },
 "nbformat": 4,
 "nbformat_minor": 0
}
